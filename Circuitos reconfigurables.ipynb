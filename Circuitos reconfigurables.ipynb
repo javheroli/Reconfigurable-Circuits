{
 "cells": [
  {
   "cell_type": "markdown",
   "metadata": {},
   "source": [
    "APARTADO 1)\n",
    "Implementar la estructura de datos para el circuito. Elegir un circuito “solución” que será\n",
    "el que supondremos que resulta dañado y hay que restaurar.\n",
    "\n",
    "Para realizar este apartado asignaremos el valor de m y n que queremos y leeremos de un fichero txt la estructura del circuito,\n",
    "el txt tendra una estrucutura:\n",
    "TipoPuerta, entrada1, entrada2\n",
    "Dónde TipoPuerta puede ser \"OR\", \"AND\", \"XOR\", \"NAND\", \"NOT\", \"NOR\" y \"XNOR\"\n",
    "Dónde entrada es un número identificador de la entrada de la puerta en cuestión, este número debe estar contenido en el rango \n",
    "[-1,n*m+n-1]\n",
    "-1 significa que no tiene entrada\n",
    "[0,n-1] significa que la entrada es una de las entradas del circuito\n",
    "[n,m*m+n-1] significa que la entrada es la salida de una puerta del circuito (importante definir el circuito de manera que cada puerta sólo pueda recibir como entradas la salida de las dos capas anteriores)\n"
   ]
  },
  {
   "cell_type": "code",
   "execution_count": 6,
   "metadata": {},
   "outputs": [
    {
     "name": "stdout",
     "output_type": "stream",
     "text": [
      "[('OR', 3, [(0, 3), (1, 3)]), ('NOT', 4, [(1, 4), (-1, 4)]), ('XNOR', 5, [(1, 5), (2, 5)]), ('NAND', 6, [(3, 6), (5, 6)]), ('OR', 7, [(3, 7), (4, 7)]), ('AND', 8, [(-1, 8), (-1, 8)]), ('XOR', 9, [(3, 9), (6, 9)]), ('NOR', 10, [(7, 10), (8, 10)]), ('AND', 11, [(7, 11), (5, 11)]), ('XNOR', 12, [(9, 12), (6, 12)]), ('NOT', 13, [(10, 13), (-1, 13)]), ('NOR', 14, [(7, 14), (11, 14)])]\n"
     ]
    }
   ],
   "source": [
    "#Introducimos los parámetros m y n del circuito\n",
    "m = 4\n",
    "n = 3\n",
    "\n",
    "#Leemos de un fichero la estructura del circuito, dicho fichero deberá contener tantas líneas como puertas se quieran introducir\n",
    "# en el circuito, por cada puerta introduciremos una línea en el fichero de la siguiente manera:\n",
    "# TipoPuerta, entrada1, entrada2\n",
    "#TipoPuerta existente en {AND, OR, NAND, XOR, NOT}\n",
    "# entrada1 y entrada2 existente en {-1, n*m+n-1}\n",
    "circuitoSolucion = []\n",
    "with open('Circuito1.txt', 'r') as fichero:\n",
    "    id_puerta = n\n",
    "    for línea in fichero:\n",
    "        puerta, entrada1, entrada2 = tuple(línea.split(\",\"))\n",
    "        \n",
    "        conexion = (int(entrada1), id_puerta)\n",
    "        conexion2 = (int(entrada2), id_puerta)\n",
    "        \n",
    "        circuitoSolucion.append((puerta,id_puerta,[conexion,conexion2]))\n",
    "        \n",
    "        id_puerta += 1\n",
    "print(circuitoSolucion)        \n"
   ]
  },
  {
   "cell_type": "markdown",
   "metadata": {},
   "source": [
    "APARTADO 2)\n",
    "Implementar un mecanismo que actúe como simulador de circuitos (es decir, que dado un\n",
    "vector de entrada con n bits calcule el vector de output del circuito), incluyendo una\n",
    "opción de marcar ciertas conexiones y/o puertas como “defectuosas”."
   ]
  },
  {
   "cell_type": "code",
   "execution_count": 7,
   "metadata": {},
   "outputs": [],
   "source": [
    "def salida_Puerta(TipoPuerta, entrada1, entrada2):\n",
    "    valorEntrada1 = False\n",
    "    valorEntrada2 = False\n",
    "    salida = False\n",
    "    \n",
    "    if(entrada1 == 1):\n",
    "        valorEntrada1 = True\n",
    "    if(entrada2 == 1):\n",
    "        valorEntrada2 = True\n",
    "    \n",
    "    if(TipoPuerta == \"OR\"):\n",
    "        salida = valorEntrada1 or valorEntrada2\n",
    "    elif(TipoPuerta == \"AND\"):\n",
    "        salida = valorEntrada1 and valorEntrada2\n",
    "    elif(TipoPuerta == \"NOT\"):\n",
    "        salida = not valorEntrada1\n",
    "    elif(TipoPuerta == \"NAND\"):\n",
    "        salida = not (valorEntrada1 and valorEntrada2)\n",
    "    elif(TipoPuerta == \"XOR\"):\n",
    "        salida = not valorEntrada1 == valorEntrada2\n",
    "    elif(TipoPuerta == \"NOR\"):\n",
    "        salida = not (valorEntrada1 or valorEntrada2)\n",
    "    else:\n",
    "        salida = valorEntrada1 == valorEntrada2\n",
    "        \n",
    "    return int(salida)\n",
    "\n",
    "\n",
    "#Esta función se puede simplificar, pero es más legible si ponemos todos los casos cubiertos a la hora de explicar el funcionamiento\n",
    "def salida_Circuito(Circuito, Entrada, Puertas_defectuosas, Conexiones_defectuosas):\n",
    "    salidas_capas_intermedias = []\n",
    "    salida = []\n",
    "    for i in range(len(Circuito)):\n",
    "        TipoPuerta = Circuito[i][0]\n",
    "        id_Puerta = Circuito[i][1]\n",
    "        conexiones_Puerta = Circuito[i][2]\n",
    "        valorEntrada1 = 0\n",
    "        valorEntrada2 = 0\n",
    "        \n",
    "        #Si la puerta está dañada la salida de la puerta va a ser 0\n",
    "        if(id_Puerta in Puertas_defectuosas):\n",
    "            #Las salidas de las capas intermedias las guardamos como una tupla(valorsalida, idpuerta) para identificar qué puertas han originado las salidas\n",
    "            #Hay que diferenciar si la salida de la puerta es una salida intermedia o final del circuito\n",
    "            if(id_Puerta < m*n):\n",
    "                salidas_capas_intermedias.append((0,id_Puerta))\n",
    "            else:\n",
    "                salida.append(0)\n",
    "            \n",
    "        #Caso en el que la puerta no esté dañada\n",
    "        else:\n",
    "            \n",
    "            #Si la conexión está dañada el valor para la entrada va a ser 0\n",
    "            if(conexiones_Puerta[0] in Conexiones_defectuosas):\n",
    "                valorEntrada1 = 0\n",
    "            else:\n",
    "                #Si no está dañada, calculamos el id de la entrada de la puerta, puede ser o bien una entrada del circuito o la salida de una puerta de capas anteriores\n",
    "                id_entrada1 = conexiones_Puerta[0][0]\n",
    "                \n",
    "                 #Si el id de la entrada es igual a -1 significa que no tiene conexión dicha entrada, por tanto es como si tuviéramos un 0 como valor\n",
    "                if(id_entrada1 == -1):\n",
    "                    valorEntrada1 = 0\n",
    "                \n",
    "                #Si la entrada es una entrada del circuito\n",
    "                elif(id_entrada1 <= n-1 and id_entrada1 > -1):\n",
    "                    valorEntrada1 = Entrada[id_entrada1]\n",
    "                    \n",
    "                #Si la entrada es una salida de una puerta intermedia, el -n es porque en la lista salidas_capas_intermedias no tenemos las entradas del circuito por tanto el índice 0 se corresponde con el id 0+n\n",
    "                else:\n",
    "                    valorEntrada1 = salidas_capas_intermedias[id_entrada1 - n][0]\n",
    "                    \n",
    "                    \n",
    "                    \n",
    "                \n",
    "            #Análogo al procedimiento anterior para la otra conexión de la puerta\n",
    "            if(conexiones_Puerta[1] in Conexiones_defectuosas):\n",
    "                valorEntrada2 = 0\n",
    "            else:\n",
    "                id_entrada2 = conexiones_Puerta[1][0]\n",
    "                \n",
    "                if(id_entrada2 == -1):\n",
    "                    valorEntrada2 = 0\n",
    "                \n",
    "                elif(id_entrada2 <= n-1 and id_entrada2 > -1):\n",
    "                    valorEntrada2 = Entrada[id_entrada2]\n",
    "                    \n",
    "                #Si la entrada es una salida de una puerta intermedia, el -n es porque en la lista salidas_capas_intermedias no tenemos las entradas del circuito por tanto el índice 0 se corresponde con el id 0+n\n",
    "                else:\n",
    "                    valorEntrada2 = salidas_capas_intermedias[id_entrada2 - n][0]\n",
    "                \n",
    "            #Finalmente una vez tenemos los valores de las entradas, calculamos la salida de la puerta con la función previamente definida salida_puerta\n",
    "            #Hay que distinguir los casos en que la salida sea intermedia o final\n",
    "            if(id_Puerta < m*n):\n",
    "                salidas_capas_intermedias.append((salida_Puerta(TipoPuerta,valorEntrada1, valorEntrada2), id_Puerta))\n",
    "            else:\n",
    "                salida.append(salida_Puerta(TipoPuerta,valorEntrada1, valorEntrada2))\n",
    "\n",
    "    return salida"
   ]
  },
  {
   "cell_type": "markdown",
   "metadata": {},
   "source": [
    "Probamos el código anterior mediante un oráculo de tuplas entradas y salidas esperadas calculadas \"a mano\" para el circuito solución que estamos usando de ejemplo \"Circuito1.txt\"\n",
    "1) Probaremos el Circuito sin añadir daños a puertas ni conexiones\n",
    "Entrada 1,0,1 -> Salida esperada 0,1,0 \n",
    "Entrada 0,0,0 -> Salida esperada 1,1,0\n",
    "Entrada 1,1,1 -> Salida esperada 0,1,0\n",
    "\n",
    "\n",
    "2) Probaremos el Circuito añadiendo daños a alguna puerta \n",
    "Entrada 1,0,1 con id's Puerta dañada 13 -> Salida esperada 0,0,0\n",
    "Entrada 1,0,1 con id's Puertas dañadas 11,13 -> Salida esperada 0,0,0\n",
    "Entrada 1,0,1 con id's Puertas dañadas 11,13,3 -> Salida esperada 1,0,0\n",
    "\n",
    "\n",
    "3) Probaremos el Circuito añadiendo daños a alguna conexión\n",
    "Entrada 1,0,1 con conexión dañada (7,10) -> Salida esperada 0,0,0\n",
    "Entrada 1,0,1 con conexiones dañadas (7,10),(7,14) -> Salida esperada 0,0,1\n",
    "\n",
    "4) Probaremos el Circuito añadiendo daños tanto en conexión como en puertas\n",
    "Entrada 1,0,1 con conexión dañadas (7,10) y puertas dañadas 3 -> Salida esperada 1,0,0"
   ]
  },
  {
   "cell_type": "code",
   "execution_count": 8,
   "metadata": {},
   "outputs": [
    {
     "name": "stdout",
     "output_type": "stream",
     "text": [
      "Salidas sin daños\n",
      "------------------\n",
      "[0, 1, 0]\n",
      "[1, 1, 0]\n",
      "[0, 1, 0]\n",
      "\n",
      "Salidas con daños en puertas\n",
      "------------------\n",
      "[0, 0, 0]\n",
      "[0, 0, 0]\n",
      "[1, 0, 0]\n",
      "\n",
      "Salidas con daños en conexiones\n",
      "------------------\n",
      "[0, 0, 0]\n",
      "[0, 0, 1]\n",
      "\n",
      "Salidas con daños en conexiones y en puertas\n",
      "------------------\n",
      "[1, 0, 0]\n"
     ]
    }
   ],
   "source": [
    "print(\"Salidas sin daños\")\n",
    "print(\"------------------\")\n",
    "print(salida_Circuito(circuitoSolucion, [1,0,1],[],[]))\n",
    "print(salida_Circuito(circuitoSolucion, [0,0,0],[],[]))\n",
    "print(salida_Circuito(circuitoSolucion, [1,1,1],[],[]))\n",
    "\n",
    "\n",
    "\n",
    "print(\"\\nSalidas con daños en puertas\")\n",
    "print(\"------------------\")\n",
    "print(salida_Circuito(circuitoSolucion, [1,0,1],[13],[]))\n",
    "print(salida_Circuito(circuitoSolucion, [1,0,1],[11,13],[]))\n",
    "print(salida_Circuito(circuitoSolucion, [1,0,1],[11,13,3],[]))\n",
    "\n",
    "print(\"\\nSalidas con daños en conexiones\")\n",
    "print(\"------------------\")\n",
    "print(salida_Circuito(circuitoSolucion, [1,0,1],[],[(7,10)]))\n",
    "print(salida_Circuito(circuitoSolucion, [1,0,1],[],[(7,10),(7,14)]))\n",
    "\n",
    "print(\"\\nSalidas con daños en conexiones y en puertas\")\n",
    "print(\"------------------\")\n",
    "print(salida_Circuito(circuitoSolucion, [1,0,1],[3],[(7,10)]))\n"
   ]
  },
  {
   "cell_type": "markdown",
   "metadata": {},
   "source": [
    "APARTADO 3)\n",
    "Construir una colección de pares de vectores de n bits (entrada,salida) que nos servirá de\n",
    "referencia para representar el “comportamiento correcto” del circuito. Implementar un\n",
    "método de auto-diagnóstico que compruebe si hay algún fallo respecto a dicha colección\n",
    "de pares.\n"
   ]
  },
  {
   "cell_type": "code",
   "execution_count": 9,
   "metadata": {},
   "outputs": [],
   "source": [
    "#Usado para obtener una lista de listas con todas las posibles combinaciones de n bits\n",
    "import itertools"
   ]
  },
  {
   "cell_type": "code",
   "execution_count": 10,
   "metadata": {},
   "outputs": [],
   "source": [
    "#Función que construye una lista de tuplas (entrada,salida) con todas las posibles combinaciones de n bits como entrada y las salidas \n",
    "#correspondientes del circuito sin tener ningún daño\n",
    "def construir_pares_referencia():\n",
    "    res = []\n",
    "    entradas = list(map(list, itertools.product([0, 1], repeat=n)))\n",
    "    for i in entradas:\n",
    "        res.append((i, salida_Circuito(circuitoSolucion, i,[],[])))\n",
    "    return res\n",
    " \n",
    "\n",
    "#Función que dado un circuito y lista de puertas y conexiones dañadas calcula el número de de fallos producidos en las salidas con respecto a \n",
    "#las salidas de referencia del circuito solución sin tener ningún daño\n",
    "def autodiagnostico(Circuito, Puertas_defectuosas, Conexiones_defectuosas):\n",
    "    numFallos = 0\n",
    "    for i in construir_pares_referencia():\n",
    "        salida_circuito_defectuoso = salida_Circuito(Circuito, i[0],Puertas_defectuosas, Conexiones_defectuosas)\n",
    "        for j in range(len(salida_circuito_defectuoso)):\n",
    "            if(salida_circuito_defectuoso[j] != i[1][j] ):\n",
    "                numFallos += 1\n",
    "    return numFallos\n",
    "        "
   ]
  },
  {
   "cell_type": "code",
   "execution_count": 11,
   "metadata": {},
   "outputs": [
    {
     "name": "stdout",
     "output_type": "stream",
     "text": [
      "Pares de referencia (entrada,salida) del comportamiento correcto del circuito:\n",
      "-----------------------------------------------------------------------------\n"
     ]
    },
    {
     "data": {
      "text/plain": [
       "[([0, 0, 0], [1, 1, 0]),\n",
       " ([0, 0, 1], [1, 1, 0]),\n",
       " ([0, 1, 0], [0, 1, 0]),\n",
       " ([0, 1, 1], [0, 1, 0]),\n",
       " ([1, 0, 0], [0, 1, 0]),\n",
       " ([1, 0, 1], [0, 1, 0]),\n",
       " ([1, 1, 0], [0, 1, 0]),\n",
       " ([1, 1, 1], [0, 1, 0])]"
      ]
     },
     "execution_count": 11,
     "metadata": {},
     "output_type": "execute_result"
    }
   ],
   "source": [
    "print(\"Pares de referencia (entrada,salida) del comportamiento correcto del circuito:\")\n",
    "print(\"-----------------------------------------------------------------------------\")\n",
    "construir_pares_referencia()"
   ]
  },
  {
   "cell_type": "code",
   "execution_count": 12,
   "metadata": {},
   "outputs": [
    {
     "name": "stdout",
     "output_type": "stream",
     "text": [
      "Nº de fallos en las salidas del circuitoSolución si se daña las puertas con id 4 y 11, y las conexiones (3,6), (6,12)\n",
      "------------------------------------------------------------------------------------------------\n",
      "Nº fallos = 12\n"
     ]
    }
   ],
   "source": [
    "print(\"Nº de fallos en las salidas del circuitoSolución si se daña las puertas con id 4 y 11, y las conexiones (3,6), (6,12)\")\n",
    "print(\"------------------------------------------------------------------------------------------------\")\n",
    "print(\"Nº fallos =\",autodiagnostico(circuitoSolucion, [4,11],[(3,6),(6,12)]))"
   ]
  },
  {
   "cell_type": "markdown",
   "metadata": {},
   "source": [
    "APARTADO 4)\n",
    "Implementar un algoritmo genético que dado un circuito dañado, busque “buenos”\n",
    "circuitos alternativos, cambiando la programación de las puertas del circuito y/o las\n",
    "conexiones entre ellas. El algoritmo genético debe trabajar sin conocer qué puertas son las\n",
    "dañadas o defectuosas."
   ]
  },
  {
   "cell_type": "code",
   "execution_count": 13,
   "metadata": {},
   "outputs": [],
   "source": [
    "#Introducir los daños en el circuito\n",
    "#Los daños en puertas se introducen mediante una lista de números identificadores, cada número identifica una entrada o una puerta del circuito,\n",
    "    #de [0, n-1] identifica las entradas del circuito de [n,n*m+n-1] identifica las puertas\n",
    "    \n",
    "puertas_defectuosas_alg = [4,11]\n",
    "\n",
    "#Los daños en conexiones se introducen mediante una lista de tuplas (entrada,salida):\n",
    "\n",
    "conexiones_defectuosas_alg = [(3,6),(6,12)]\n"
   ]
  },
  {
   "cell_type": "code",
   "execution_count": 14,
   "metadata": {},
   "outputs": [],
   "source": [
    "import random\n",
    "from deap import base, creator, tools, algorithms\n",
    "import numpy"
   ]
  },
  {
   "cell_type": "code",
   "execution_count": 15,
   "metadata": {},
   "outputs": [
    {
     "name": "stderr",
     "output_type": "stream",
     "text": [
      "C:\\Users\\Javier\\Anaconda3\\lib\\site-packages\\deap\\creator.py:141: RuntimeWarning: A class named 'Fitness' has already been created and it will be overwritten. Consider deleting previous creation of that class or rename it.\n",
      "  RuntimeWarning)\n"
     ]
    }
   ],
   "source": [
    "creator.create('Fitness', base.Fitness, weights=(-1.0,))"
   ]
  },
  {
   "cell_type": "code",
   "execution_count": 16,
   "metadata": {},
   "outputs": [
    {
     "name": "stderr",
     "output_type": "stream",
     "text": [
      "C:\\Users\\Javier\\Anaconda3\\lib\\site-packages\\deap\\creator.py:141: RuntimeWarning: A class named 'Individuo' has already been created and it will be overwritten. Consider deleting previous creation of that class or rename it.\n",
      "  RuntimeWarning)\n"
     ]
    }
   ],
   "source": [
    "creator.create('Individuo', list, fitness = creator.Fitness)"
   ]
  },
  {
   "cell_type": "code",
   "execution_count": 17,
   "metadata": {},
   "outputs": [],
   "source": [
    "caja_de_herramientas = base.Toolbox()"
   ]
  },
  {
   "cell_type": "code",
   "execution_count": 18,
   "metadata": {},
   "outputs": [],
   "source": [
    "\n",
    "\n",
    "#Función de generación de genes para el cromosoma, debemos distinguir que para cada puerta tenemos 3 genes, el primero indica\n",
    "# el tipo de puerta y los 2 genes siguientes las entradas.\n",
    "# Para hacer el algoritmo más eficiente, no daremos la posibilidad de que se generen cromosomas erróneos, en el sentido de que exista\n",
    "# la posibilidad de que una puerta tenga como entrada la salida de otra puerta de una capa posterior.\n",
    "#Aún existe la posibilidad de que se generen cromosomas erróneos en el sentido de que la entrada de una puerta provenga de un\n",
    "# elemento(entrada circuito o puerta) no perteneciente  a las 2 capas anteriores, esta situación se penalizará en el fitness.\n",
    "#Corregido: se daba la posibilidad de que existieran conexiones entre puertas de la misma capa, se introduce 3*n en el divisor y el \n",
    "#resultado de ese cociente se multiplica por n\n",
    "\n",
    "def contador_llamadas(func):\n",
    "     func.count += 1\n",
    "\n",
    "def generador_genes():\n",
    "    #Reseteamos el contador de llamadas cuando ya hemos finalizado de generar los genes de un cromosoma entero\n",
    "    if(generador_genes.count == 3*n*m):\n",
    "        generador_genes.count = 0\n",
    "    \n",
    "    valor = 0\n",
    "    if(generador_genes.count % 3 == 0):\n",
    "        valor = random.randint(0,6)\n",
    "    else:\n",
    "        valor = random.randint(-1,n-1+n*(generador_genes.count//(3*n)))\n",
    "    \n",
    "    contador_llamadas(generador_genes)\n",
    "    \n",
    "    return valor\n",
    "\n",
    "generador_genes.count = 0\n",
    "        \n",
    "\n",
    "caja_de_herramientas.register('gen', generador_genes)"
   ]
  },
  {
   "cell_type": "code",
   "execution_count": 19,
   "metadata": {},
   "outputs": [],
   "source": [
    "caja_de_herramientas.register('individuo', tools.initRepeat,\n",
    "                              container=creator.Individuo, func=caja_de_herramientas.gen, n=3*n*m)"
   ]
  },
  {
   "cell_type": "code",
   "execution_count": 20,
   "metadata": {},
   "outputs": [],
   "source": [
    "caja_de_herramientas.register('población', tools.initRepeat,\n",
    "                              container=list, func=caja_de_herramientas.individuo, n=2000)"
   ]
  },
  {
   "cell_type": "code",
   "execution_count": 21,
   "metadata": {},
   "outputs": [],
   "source": [
    "def fenotipo(individuo):\n",
    "    circuito = []\n",
    "    id_puerta_actual = n\n",
    "    for i in range(0,len(individuo),3):\n",
    "        conexion = (individuo[i+1], id_puerta_actual)\n",
    "        conexion2 = (individuo[i+2],id_puerta_actual)\n",
    "        \n",
    "        if(individuo[i] == 0):\n",
    "            circuito.append((\"OR\",id_puerta_actual, [conexion,conexion2]))\n",
    "        elif(individuo[i] == 1):\n",
    "            circuito.append((\"AND\",id_puerta_actual, [conexion,conexion2]))\n",
    "        elif(individuo[i] == 2):\n",
    "            circuito.append((\"XOR\",id_puerta_actual, [conexion,conexion2]))\n",
    "        elif(individuo[i] == 3):\n",
    "            circuito.append((\"NAND\",id_puerta_actual, [conexion,conexion2]))\n",
    "        elif(individuo[i] == 4):\n",
    "            circuito.append((\"NOR\",id_puerta_actual, [conexion,conexion2]))\n",
    "        elif(individuo[i] == 5):\n",
    "            circuito.append((\"XNOR\",id_puerta_actual, [conexion,conexion2]))\n",
    "        else:\n",
    "            circuito.append((\"NOT\",id_puerta_actual, [conexion,conexion2]))\n",
    "        \n",
    "        id_puerta_actual += 1\n",
    "            \n",
    "    return circuito\n",
    "\n",
    "def evaluar_individuo(individuo):\n",
    "    circuito = fenotipo(individuo)\n",
    "    numFallosSalidas = autodiagnostico(circuito, puertas_defectuosas_alg, conexiones_defectuosas_alg)\n",
    "    numErroresEntradas = 0\n",
    "    \n",
    "    for i in circuito:\n",
    "        conexion1 = i[2][0]\n",
    "        conexion2 = i[2][1]\n",
    "        if(conexion1[0] < (conexion1[1]-2*n-conexion1[1]%n) and conexion1[0] != -1):\n",
    "            numErroresEntradas += 1\n",
    "        if(conexion2[0] < (conexion2[1]-2*n-conexion2[1]%n) and conexion2[0] != -1):\n",
    "            numErroresEntradas += 1\n",
    "        \n",
    "    #El coeficiente 2**n*n+1 es para verificar que toda solución errónea tenga peor fitness que la peor solución correcta posible\n",
    "    return (numFallosSalidas + numErroresEntradas * (2**n*n+1),)\n",
    "\n",
    "caja_de_herramientas.register('evaluate', evaluar_individuo)"
   ]
  },
  {
   "cell_type": "code",
   "execution_count": 22,
   "metadata": {},
   "outputs": [
    {
     "name": "stdout",
     "output_type": "stream",
     "text": [
      "Cromosoma:\n",
      "[3, -1, 1, 6, 1, 0, 2, 2, 0, 2, -1, 5, 3, 1, 3, 5, 0, 3, 4, 1, 4, 5, 0, 7, 5, 5, 8, 4, 1, 1, 1, 10, 0, 1, 4, 4]\n",
      "\n",
      "Fenotipo del cromosoma:\n",
      "[('NAND', 3, [(-1, 3), (1, 3)]), ('NOT', 4, [(1, 4), (0, 4)]), ('XOR', 5, [(2, 5), (0, 5)]), ('XOR', 6, [(-1, 6), (5, 6)]), ('NAND', 7, [(1, 7), (3, 7)]), ('XNOR', 8, [(0, 8), (3, 8)]), ('NOR', 9, [(1, 9), (4, 9)]), ('XNOR', 10, [(0, 10), (7, 10)]), ('XNOR', 11, [(5, 11), (8, 11)]), ('NOR', 12, [(1, 12), (1, 12)]), ('AND', 13, [(10, 13), (0, 13)]), ('AND', 14, [(4, 14), (4, 14)])]\n",
      "\n",
      "Evaluación del cromosoma:\n",
      "(183,)\n"
     ]
    }
   ],
   "source": [
    "#Definimos un test para comprobar la creación de un individuo/cromosoma, la representación del fenotipo para el mismo y la evaluación de su fitness\n",
    "random.seed(12345)\n",
    "cromosoma = caja_de_herramientas.individuo()\n",
    "print(\"Cromosoma:\")\n",
    "print (cromosoma)\n",
    "print(\"\\nFenotipo del cromosoma:\")\n",
    "print(fenotipo(cromosoma))\n",
    "\n",
    "print(\"\\nEvaluación del cromosoma:\")\n",
    "print(evaluar_individuo(cromosoma))\n",
    "\n",
    "\n",
    "#Podemos observar que el cromosoma y su fenotipo es correcto, excepto por lo comentado anteriormente, se pueden crear conexiones\n",
    "# con elementos previos a las dos capas anteriores, lo penalizaremos en el fitness\n"
   ]
  },
  {
   "cell_type": "code",
   "execution_count": 23,
   "metadata": {},
   "outputs": [],
   "source": [
    "caja_de_herramientas.register('mate', tools.cxUniform, indpb=0.1)\n",
    "#Tal y como hemos definido la estructura de nuestros cromosomas (diferentes significados según la posición del gen), \n",
    "#tenemos una única opción de mutación muy específica,\n",
    "#la mutación uniforme, indicando rangos diferentes según la posición del gen en el cromosoma\n",
    "listLow = []\n",
    "listUp = []\n",
    "for i in range(3*n*m):\n",
    "    if(i%3==0):\n",
    "        listLow.append(0)\n",
    "        listUp.append(6)\n",
    "    else:\n",
    "        listLow.append(-1)\n",
    "        listUp.append(n-1+n*(i//(3*n)))\n",
    "        \n",
    "caja_de_herramientas.register('mutate', tools.mutUniformInt,low=listLow, up= listUp, indpb=0.1)"
   ]
  },
  {
   "cell_type": "code",
   "execution_count": 24,
   "metadata": {},
   "outputs": [],
   "source": [
    "caja_de_herramientas.register('select', tools.selTournament, tournsize=3)"
   ]
  },
  {
   "cell_type": "code",
   "execution_count": 25,
   "metadata": {},
   "outputs": [],
   "source": [
    "# Estadísticas sobre el fitness de los individuos: mínimo, media y máximo\n",
    "estadísticas = tools.Statistics(lambda ind: ind.fitness.values)\n",
    "estadísticas.register(\"mínimo\", numpy.min)\n",
    "estadísticas.register(\"media\", numpy.mean)\n",
    "estadísticas.register(\"máximo\", numpy.max)\n",
    "\n",
    "# Salón de la fama para recopilar los tres mejores individuos de todas las generaciones\n",
    "salón_fama = tools.HallOfFame(1)"
   ]
  },
  {
   "cell_type": "code",
   "execution_count": 26,
   "metadata": {},
   "outputs": [
    {
     "name": "stdout",
     "output_type": "stream",
     "text": [
      "Imprimimos las estadísticas del proceso del algoritmo:\n",
      "------------------------------------------------------\n",
      "gen\tnevals\tmínimo\tmedia \tmáximo\n",
      "0  \t2000  \t8     \t126.76\t266   \n",
      "1  \t1308  \t6     \t92.826\t208   \n",
      "2  \t1265  \t4     \t68.477\t187   \n",
      "3  \t1334  \t4     \t50.603\t139   \n",
      "4  \t1283  \t2     \t35.6755\t133   \n",
      "5  \t1226  \t2     \t24.3825\t118   \n",
      "6  \t1262  \t2     \t16.3925\t114   \n",
      "7  \t1286  \t0     \t12.7815\t91    \n",
      "8  \t1330  \t0     \t10.9595\t87    \n",
      "9  \t1310  \t0     \t9.438  \t139   \n",
      "10 \t1339  \t0     \t8.7085 \t89    \n",
      "11 \t1258  \t0     \t8.1535 \t85    \n",
      "12 \t1302  \t0     \t7.496  \t85    \n",
      "13 \t1321  \t0     \t7.5755 \t108   \n",
      "14 \t1345  \t0     \t7.616  \t93    \n",
      "15 \t1253  \t0     \t6.657  \t104   \n",
      "16 \t1281  \t0     \t6.311  \t91    \n",
      "17 \t1336  \t0     \t6.9485 \t88    \n",
      "18 \t1324  \t0     \t6.067  \t85    \n",
      "19 \t1312  \t0     \t6.5595 \t87    \n",
      "20 \t1308  \t0     \t6.617  \t107   \n"
     ]
    }
   ],
   "source": [
    "random.seed(12345)\n",
    "población_inicial = caja_de_herramientas.población()\n",
    "print(\"Imprimimos las estadísticas del proceso del algoritmo:\")\n",
    "print(\"------------------------------------------------------\")\n",
    "población_final, registro = algorithms.eaSimple(población_inicial,\n",
    "                                                caja_de_herramientas,\n",
    "                                                cxpb=0.5,  # Probabilidad de cruzamiento\n",
    "                                                mutpb=0.3,  # Probabilidad de mutación\n",
    "                                                ngen=20,  # Número de generaciones\n",
    "                                                stats=estadísticas,\n",
    "                                                halloffame=salón_fama)\n",
    "\n"
   ]
  },
  {
   "cell_type": "code",
   "execution_count": 70,
   "metadata": {},
   "outputs": [
    {
     "name": "stdout",
     "output_type": "stream",
     "text": [
      "La mejor solución de reconfiguración encontrada es:\n",
      "\n",
      "Puertas=[('XNOR', 3, [(2, 3), (0, 3)]), ('OR', 4, [(-1, 4), (0, 4)]), ('AND', 5, [(2, 5), (-1, 5)]), ('NOT', 6, [(1, 6), (0, 6)]), ('AND', 7, [(0, 7), (1, 7)]), ('OR', 8, [(1, 8), (0, 8)]), ('NOT', 9, [(5, 9), (6, 9)]), ('XOR', 10, [(4, 10), (7, 10)]), ('OR', 11, [(-1, 11), (7, 11)]), ('XNOR', 12, [(6, 12), (8, 12)]), ('NAND', 13, [(6, 13), (11, 13)]), ('XOR', 14, [(7, 14), (10, 14)])]; Fitness: 0.0\n",
      "\n",
      "\n",
      "Diagnóstico:\n",
      "------------\n",
      "¡Se ha logrado una auto-reparación completa del circuito, rendimiento del 100%!\n"
     ]
    }
   ],
   "source": [
    "print('La mejor solución de reconfiguración encontrada es:\\n')\n",
    "for individuo in salón_fama:\n",
    "    print('Puertas={1}; Fitness: {0}\\n'.format(\n",
    "        individuo.fitness.values[0], fenotipo(individuo)))\n",
    "    print(\"\\nDiagnóstico:\")\n",
    "    print(\"------------\")\n",
    "    if(individuo.fitness.values[0] == 0):\n",
    "        print(\"¡Se ha logrado una auto-reparación completa del circuito, rendimiento del 100%!\")\n",
    "    else:\n",
    "        print(\"No se ha logrado una auto-reparación completa del circuito, el rendimiento es de: {0}%\".format(\n",
    "            (2**n*n-individuo.fitness.values[0])/(2**n*n)*100))\n"
   ]
  },
  {
   "cell_type": "code",
   "execution_count": null,
   "metadata": {},
   "outputs": [],
   "source": []
  },
  {
   "cell_type": "code",
   "execution_count": null,
   "metadata": {},
   "outputs": [],
   "source": []
  }
 ],
 "metadata": {
  "kernelspec": {
   "display_name": "Python 3",
   "language": "python",
   "name": "python3"
  },
  "language_info": {
   "codemirror_mode": {
    "name": "ipython",
    "version": 3
   },
   "file_extension": ".py",
   "mimetype": "text/x-python",
   "name": "python",
   "nbconvert_exporter": "python",
   "pygments_lexer": "ipython3",
   "version": "3.6.4"
  }
 },
 "nbformat": 4,
 "nbformat_minor": 2
}
